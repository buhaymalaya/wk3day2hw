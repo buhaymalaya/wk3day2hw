{
 "cells": [
  {
   "cell_type": "markdown",
   "metadata": {},
   "source": [
    "# Algorithms, Binary Search & Linked Lists"
   ]
  },
  {
   "cell_type": "markdown",
   "metadata": {},
   "source": [
    "## Tasks Today:\n",
    " \n",
    "1) <b>In-Place Algorithms</b> <br>\n",
    " &nbsp;&nbsp;&nbsp;&nbsp; a) Syntax <br>\n",
    " &nbsp;&nbsp;&nbsp;&nbsp; a) Out of Place Algorithm <br>\n",
    " &nbsp;&nbsp;&nbsp;&nbsp; b) In-Class Exercise #1 <br>\n",
    "2) <b>Two Pointers</b> <br>\n",
    "3) <b>Linked Lists</b> <br>\n",
    "4) <b>Merge Sort</b> <br>\n",
    " &nbsp;&nbsp;&nbsp;&nbsp; a) Video on Algorithms <br>\n",
    " &nbsp;&nbsp;&nbsp;&nbsp; b) How it Works <br>\n",
    "5) <b>Exercises</b> <br>\n",
    " &nbsp;&nbsp;&nbsp;&nbsp; a) Exercise #1 - Reverse a List in Place Using an In-Place Algorithm <br>\n",
    " &nbsp;&nbsp;&nbsp;&nbsp; b) Exercise #2 - Find Distinct Words <br>\n",
    " &nbsp;&nbsp;&nbsp;&nbsp; c) Exercise #3 - Write a program to implement a Linear Search Algorithm. <br>"
   ]
  },
  {
   "cell_type": "markdown",
   "metadata": {},
   "source": [
    "## In-Place Algorithms"
   ]
  },
  {
   "cell_type": "markdown",
   "metadata": {},
   "source": [
    "#### Syntax"
   ]
  },
  {
   "cell_type": "code",
   "execution_count": 11,
   "metadata": {},
   "outputs": [
    {
     "name": "stdout",
     "output_type": "stream",
     "text": [
      "[1, 3, 4, 5, 7, 8, 66]\n",
      "nums[left_point] = 1 nums[right_point] = 66\n",
      "None\n",
      "[66, 8, 7, 5, 4, 3, 1]\n",
      "[8, 66, 7, 5, 4, 3, 1]\n"
     ]
    }
   ],
   "source": [
    "# expect these algorithms in actual technical assessments for real life interviews\n",
    "# modifies input going into function ie) .sort()\n",
    "\n",
    "nums = [8,7,66,1,5,3,4]\n",
    "\n",
    "nums.sort()\n",
    "\n",
    "print(nums) # original has been modified\n",
    "\n",
    "# modify original list and reverse order\n",
    "# use a 2-pointer - pointing at 2 different elements at once (think index)\n",
    "\n",
    "def reverse_in_place(nums):\n",
    "    left_point = 0\n",
    "    right_point =  len(nums) - 1   # -1 cannot use negative point bc look at while loop below\n",
    "    print(f'{nums[left_point] = } {nums[right_point] = }')\n",
    "    while left_point < right_point:\n",
    "        # swap elements from left and right points\n",
    "        # assign value in nums at position left point and right point\n",
    "        nums[left_point], nums[right_point] = nums[right_point], nums[left_point]\n",
    "        # continue until reversed entire list\n",
    "        # move up 1 below\n",
    "        left_point += 1\n",
    "        right_point -= 1\n",
    "        #no need to return since its an inplace algo\n",
    "          \n",
    "print(reverse_in_place(nums))\n",
    "\n",
    "print(nums)\n",
    "\n",
    "def swap_elements(alist, i_one, i_two):\n",
    "    alist[i_one], alist[i_two] = alist[i_two], alist[i_one]\n",
    "    \n",
    "swap_elements(nums,0, 1)\n",
    "\n",
    "print(nums)"
   ]
  },
  {
   "cell_type": "markdown",
   "metadata": {},
   "source": [
    "#### Out of Place Algorithm"
   ]
  },
  {
   "cell_type": "code",
   "execution_count": 13,
   "metadata": {},
   "outputs": [
    {
     "name": "stdout",
     "output_type": "stream",
     "text": [
      "[9, 5, 6, 3, 4]\n",
      "[3, 4, 5, 6, 9]\n",
      "[5, 9, 6, 3, 4]\n",
      "[9, 5, 6, 3, 4]\n"
     ]
    }
   ],
   "source": [
    "# leaves original unchanged; instead makes a copy and outputs ie) sorted()\n",
    "\n",
    "nums2 = [9,5,6,3,4]\n",
    "\n",
    "sorted_nums2 = sorted(nums2)\n",
    "\n",
    "print(nums2) # unchanged\n",
    "print(sorted_nums2)\n",
    "\n",
    "def swap_elements_copy(alist, i_one, i_two):\n",
    "    # do not modify original but the copy\n",
    "    # slice the list to create a copy based on whatever position specified\n",
    "    alist_copy = alist[:]\n",
    "    # switching places\n",
    "    alist_copy[i_one], alist_copy[i_two] = alist[i_two], alist[i_one]\n",
    "    \n",
    "# NOTHING IS RETURNED UNLESS IT IS CALLED below\n",
    "    return alist_copy\n",
    "\n",
    "print(swap_elements_copy(nums2, 0, 1))\n",
    "\n",
    "print(nums2)"
   ]
  },
  {
   "cell_type": "markdown",
   "metadata": {},
   "source": [
    "#### In-Class Exercise #1 <br>\n",
    "<p>Write a function that takes in four arguments (list, index1, index2, index3), and swaps those three positions in the list passed in.</p>"
   ]
  },
  {
   "cell_type": "code",
   "execution_count": 21,
   "metadata": {},
   "outputs": [
    {
     "name": "stdout",
     "output_type": "stream",
     "text": [
      "[3, 10, 4, 8, 4, 2, 6]\n"
     ]
    }
   ],
   "source": [
    "# use inplace first, if there is time do out of place\n",
    "\n",
    "l_1 = [10, 4, 3, 8, 4, 2, 6]\n",
    "\n",
    "def swappy(l_1, i1, i2, i3):\n",
    "    l_1[i1], l_1[i2], l_1[i3] = l_1[i3], l_1[i1], l_1[i2]\n",
    "    \n",
    "swappy(l_1, 0, 1, 2)\n",
    "print(l_1)"
   ]
  },
  {
   "cell_type": "markdown",
   "metadata": {},
   "source": [
    "## Two Pointers"
   ]
  },
  {
   "cell_type": "markdown",
   "metadata": {},
   "source": [
    "#### Syntax"
   ]
  },
  {
   "cell_type": "code",
   "execution_count": 24,
   "metadata": {},
   "outputs": [
    {
     "name": "stdout",
     "output_type": "stream",
     "text": [
      "False\n"
     ]
    }
   ],
   "source": [
    "# checking for a palindrome\n",
    "\n",
    "# i[0] == i[-1] and then the indexes inside\n",
    "\n",
    "\n",
    "def check_palindrome(astring):\n",
    "    # declaring multiple variables in one line, respectively after =\n",
    "    left_point, right_point = 0, len(astring) -1\n",
    "    # continually check elements at each pointer to see if they = each other\n",
    "    while left_point < right_point:\n",
    "        if astring[left_point] != astring[right_point]:\n",
    "            return False\n",
    "        left_point += 1\n",
    "        right_point -= 1\n",
    "            \n",
    "    return True\n",
    "\n",
    "print(check_palindrome('abca'))\n"
   ]
  },
  {
   "cell_type": "markdown",
   "metadata": {},
   "source": [
    "#### Video of Algorithms <br>\n",
    "<p>Watch the video about algorithms.</p>\n",
    "\n",
    "https://www.youtube.com/watch?v=Q9HjeFD62Uk\n",
    "\n",
    "https://www.youtube.com/watch?v=kPRA0W1kECg\n",
    "\n",
    "https://www.youtube.com/watch?v=ZZuD6iUe3Pc"
   ]
  },
  {
   "cell_type": "markdown",
   "metadata": {},
   "source": [
    "# Sorting Algorithms"
   ]
  },
  {
   "cell_type": "markdown",
   "metadata": {},
   "source": [
    "#### Bubble Sort\n",
    "\n",
    "Worst Case: O(n^2) Time - O(1) Space"
   ]
  },
  {
   "cell_type": "code",
   "execution_count": 29,
   "metadata": {},
   "outputs": [
    {
     "name": "stdout",
     "output_type": "stream",
     "text": [
      "[1, 33, 77, 88, 99]\n"
     ]
    }
   ],
   "source": [
    "# easiest of the 3; practice recreation for technical interviews\n",
    "\n",
    "# constantly referring to 2 elements within a list -> the bubble\n",
    "# the bubble is the reference for sorting#\n",
    "# moving the larger number from the pair is on the right\n",
    "# do another pass \n",
    "# linear comparison until not needing to swap\n",
    "# always comparing two values, pushing the larger value to the right, doing the next bubble\n",
    "\n",
    "num = [88,77,33,1,99]\n",
    "def bubble_sort(nums):\n",
    "    is_sorted = False # dont know if we have a sorted solution yet\n",
    "    # can use while loop or range loop\n",
    "    while not is_sorted:\n",
    "        is_sorted = True \n",
    "        pass_through = 1\n",
    "        for i in range(len(nums) - pass_through): # to avoid erroring out of range since looking to elements on the right\n",
    "            # compare to the number to the right in the bubble\n",
    "            if nums[i] > nums[i+1]:\n",
    "                # this condition means the bubble is unsorted, so swap\n",
    "                nums[i], nums[i+1] = nums[i+1], nums[i]\n",
    "                is_sorted = False\n",
    "        pass_through += 1\n",
    "bubble_sort(nums)\n",
    "\n",
    "print(nums)"
   ]
  },
  {
   "cell_type": "markdown",
   "metadata": {},
   "source": [
    "##### Insertion Sort\n",
    "\n",
    "Worst Case: O(n^2) time - O(1)space"
   ]
  },
  {
   "cell_type": "code",
   "execution_count": 28,
   "metadata": {},
   "outputs": [
    {
     "name": "stdout",
     "output_type": "stream",
     "text": [
      "[1, 33, 77, 88, 99]\n"
     ]
    }
   ],
   "source": [
    "# extract one element at a time and start at index 1\n",
    "# continue to look left until we find an element that is smaller or until we reach index 0\n",
    "# if index 0 is larger, move it to the right\n",
    "# plug in index 1 element into index 0\n",
    "# now look at index 2 then look to the left until we find a smaller value or until index 0\n",
    "# move element to index 0 and the two other elements will be moved to the right\n",
    "# if last index is compared to element to the left and left is smaller, last index stays put\n",
    "\n",
    "\n",
    "nums = [88,77,33,1,99]\n",
    "\n",
    "def insertion_sort(nums):\n",
    "    for i in range(1, len(nums)): # no need to minus 1 since we are looking to the left, starting at index 1\n",
    "        current_value = nums[i]\n",
    "        while i > 0 and current_value < nums[i -1]:\n",
    "            nums[i] = nums[i - 1]\n",
    "            i -= 1\n",
    "        nums[i] = current_value \n",
    "        \n",
    "insertion_sort(nums)\n",
    "print(nums)"
   ]
  },
  {
   "cell_type": "markdown",
   "metadata": {},
   "source": [
    "## Merge Sort"
   ]
  },
  {
   "cell_type": "markdown",
   "metadata": {},
   "source": [
    "#### How it Works"
   ]
  },
  {
   "cell_type": "code",
   "execution_count": 34,
   "metadata": {},
   "outputs": [
    {
     "name": "stdout",
     "output_type": "stream",
     "text": [
      "[11, 33, 44, 77, 88]\n"
     ]
    }
   ],
   "source": [
    "# aka divide and conquer algorithm\n",
    "# recursive going through list \n",
    "# divide list in half and sort each half\n",
    "# divide each half until that half is only one element\n",
    "\n",
    "nums = [88,77,44,33,11]\n",
    "\n",
    "def merge_sort(nums):\n",
    "    middle = len(nums) // 2 # no want a decimal kayyy\n",
    "    left_half, right_half = nums[:middle], nums[middle:]\n",
    "    # use recursion into smaller lists\n",
    "    # break in half, find dividing point\n",
    "    \n",
    "    if len(nums) > 1:\n",
    "       \n",
    "        \n",
    "        # left half slice\n",
    "        merge_sort(left_half)\n",
    "        \n",
    "        # right half slice\n",
    "        merge_sort(right_half)\n",
    "        \n",
    "    # 3 pointer variables, respectively\n",
    "    left_point, right_point, current_point = 0, 0, 0\n",
    "    \n",
    "    while left_point < len(left_half) and right_point < len(right_half):\n",
    "        if left_half[left_point] < right_half[right_point]:\n",
    "            nums[current_point] = left_half[left_point]\n",
    "            left_point += 1\n",
    "            \n",
    "        else:\n",
    "            nums[current_point] = right_half[right_point]\n",
    "            right_point += 1\n",
    "        current_point += 1\n",
    "\n",
    "    while left_point < len(left_half):\n",
    "        nums[current_point] = left_half[left_point]\n",
    "        left_point += 1\n",
    "        current_point += 1\n",
    "        \n",
    "    while right_point < len(right_half):\n",
    "        nums[current_point] = right_half[right_point]\n",
    "        right_point += 1\n",
    "        current_point += 1\n",
    "        \n",
    "merge_sort(nums)\n",
    "print(nums)"
   ]
  },
  {
   "cell_type": "markdown",
   "metadata": {},
   "source": [
    "# Binary Search\n",
    "\n",
    "The Binary Search algorithm works by finding the number in the middle of a given array and comparing it to the target. Given that the array is sorted\n",
    "\n",
    "* The worst case run time for this algorithm is `O(log(n))`"
   ]
  },
  {
   "cell_type": "code",
   "execution_count": null,
   "metadata": {},
   "outputs": [],
   "source": []
  },
  {
   "cell_type": "markdown",
   "metadata": {},
   "source": [
    "# Exercises"
   ]
  },
  {
   "cell_type": "markdown",
   "metadata": {},
   "source": [
    "### Exercise #1 <br>\n",
    "<p>Reverse the list below in-place using an in-place algorithm.<br>For extra credit: Reverse the strings at the same time.</p>"
   ]
  },
  {
   "cell_type": "code",
   "execution_count": 84,
   "metadata": {},
   "outputs": [
    {
     "name": "stdout",
     "output_type": "stream",
     "text": [
      "['.', 'a', 'is', 'sentence', 'this']\n",
      "wordslist[left_point] = '.' wordslist[right_point] = 'this'\n",
      "None\n",
      "['this', 'sentence', 'is', 'a', '.']\n",
      "['.', 'a', 'is', 'sentence', 'this']\n",
      "nawalap\n"
     ]
    }
   ],
   "source": [
    "# build fn that takes in a list and sorting in place\n",
    "# extra credit: reverse strings \n",
    "# expect these algorithms in actual technical assessments for real life interviews\n",
    "# modifies input going into function ie) .sort()\n",
    "\n",
    "\n",
    "words = ['this' , 'is', 'a', 'sentence', '.']\n",
    "\n",
    "words.sort()\n",
    "\n",
    "print(words) # original has been modified\n",
    "\n",
    "# modify original list and reverse order\n",
    "# use a 2-pointer - pointing at 2 different elements at once (think index)\n",
    "\n",
    "def reverse_words(wordslist):\n",
    "    left_point = 0\n",
    "    right_point =  len(wordslist) - 1   # -1 cannot use negative point bc look at while loop below\n",
    "    print(f'{wordslist[left_point] = } {wordslist[right_point] = }')\n",
    "    while left_point < right_point: # left and right point are indeces so think while 0 < 4 for this instance\n",
    "        # swap elements from left and right points\n",
    "        # assign value in nums at position left point and right point\n",
    "        wordslist[left_point], wordslist[right_point] = wordslist[right_point], wordslist[left_point]\n",
    "        # continue until reversed entire list\n",
    "        # move up 1 below\n",
    "        left_point += 1\n",
    "        right_point -= 1\n",
    "        #no need to return since its an inplace algo\n",
    "          \n",
    "print(reverse_words(words))\n",
    "\n",
    "print(words)\n",
    "\n",
    "def swap_elements(words_list, i1, i2, i3, i4, i5):\n",
    "    words_list[i1], words_list[i2], words_list[i3], words_list[i4], words_list[i5] = words_list[i5], words_list[i4], words_list[i3], words_list[i2], words_list[i1]\n",
    "    reversed_list = []\n",
    "    for word in words_list:\n",
    "        revved = word[::-1]\n",
    "        reversed_list.append(revved)\n",
    "        return reversed_list\n",
    "    \n",
    "swap_elements(words, 0, 1, 2, 3, 4)\n",
    "\n",
    "print(words)\n",
    "\n",
    "\n",
    "\n",
    "# TESTING the reversal of each string in a list: why is it ONLY reversing [0] even if iterating with a for loop?\n",
    "places = ['palawan', 'boracay']\n",
    "def check_rev(pilipinas):\n",
    "    for place in pilipinas:\n",
    "        return place[::-1]\n",
    "print(check_rev(places))"
   ]
  },
  {
   "cell_type": "markdown",
   "metadata": {},
   "source": [
    "### Exercise #2 <br>\n",
    "<p>Create a function that counts how many distinct words are in the string below, then outputs a dictionary with the words as the key and the value as the amount of times that word appears in the string.<br>Should output:<br>{'a': 5,<br>\n",
    " 'abstract': 1,<br>\n",
    " 'an': 3,<br>\n",
    " 'array': 2, ... etc...</p>"
   ]
  },
  {
   "cell_type": "code",
   "execution_count": 55,
   "metadata": {},
   "outputs": [
    {
     "name": "stdout",
     "output_type": "stream",
     "text": [
      "{'In': 1, 'computing,': 1, 'a': 4, 'hash': 4, 'table': 2, 'map': 2, 'is': 1, 'data': 2, 'structure': 2, 'which': 2, 'implements': 1, 'an': 3, 'associative': 1, 'array': 2, 'abstract': 1, 'type,': 1, 'that': 1, 'can': 2, 'keys': 1, 'to': 2, 'values.': 1, 'A': 1, 'uses': 1, 'function': 1, 'compute': 1, 'index': 1, 'into': 1, 'of': 1, 'buckets': 1, 'or': 1, 'slots': 1, 'from': 1, 'the': 1, 'desired': 1, 'value': 1, 'be': 1, 'found': 1}\n"
     ]
    }
   ],
   "source": [
    "# DONE 1 - create a function - counts how many words (keys) are in string given\n",
    "# DONE 2 - output = {} key (word) value (amount of occurrences of the word)\n",
    "# DONE 3 - if word not in output, add key, membership check\n",
    "# DONE 4 - if word is already in hashmap, increment the key's value by 1: dict[key] += 1\n",
    "# DONE 5 - iterate through the string given - for loop\n",
    "# DONE 5A - count each word and store - string.count(char/substring, start, end)\n",
    "# DONE 6 - since all words are inside one string, slice/split string into separate pieces\n",
    "# DONE 7 - .split(SEPARATOR, MAXSPLIT) separates elements based on whitespace and maxsplit is -1 by default\n",
    "# sidenote: separator can be any character by which string is separated; maxsplit is the max number of splits to perform\n",
    "\n",
    "a_text = 'In computing, a hash table hash map is a data structure which implements an associative array abstract data type, a structure that can map keys to values. A hash table uses a hash function to compute an index into an array of buckets or slots from which the desired value can be found'\n",
    "\n",
    "def split_count(list_words):\n",
    "    output = {}\n",
    "    separated = list_words.split()\n",
    "    for word in separated:\n",
    "        separated.count(word)\n",
    "        if word in output:\n",
    "            output[word] += 1\n",
    "        elif word not in output:\n",
    "            output[word] = 1\n",
    "\n",
    "    return output\n",
    "\n",
    "print(split_count(a_text))"
   ]
  },
  {
   "cell_type": "markdown",
   "metadata": {},
   "source": [
    "## Exercise #3\n",
    "\n",
    "Write a program to implement a Linear Search Algorithm. Also in a comment, write the Time Complexity of the following algorithm.\n",
    "\n",
    "#### Hint: Linear Searching will require searching a list for a given number. "
   ]
  },
  {
   "cell_type": "code",
   "execution_count": 94,
   "metadata": {},
   "outputs": [
    {
     "name": "stdout",
     "output_type": "stream",
     "text": [
      "False\n",
      "True\n"
     ]
    }
   ],
   "source": [
    "# time complexity optional\n",
    "# linear - one pass through - looking at each element maybe for loop def func\n",
    "# EXAMPLE\n",
    "# def find_needle(alist, num)\n",
    "# if num in alist, true\n",
    "\n",
    "# create a linear search algorithm program\n",
    "\n",
    "listy = ['poi', 'tilapia', 'taro', 'nori']\n",
    "         \n",
    "def for_every(food_list, food): # is this linear?\n",
    "    for i in range(len(food_list) - 1):\n",
    "        if food_list[i] == food:\n",
    "            return True\n",
    "        else:\n",
    "            return False\n",
    "        \n",
    "# test with a sample list\n",
    "        \n",
    "print(for_every(listy, 'nori'))\n",
    "\n",
    "def check_there(qlist, q):\n",
    "    for q in qlist:\n",
    "        if q in qlist:\n",
    "            return True\n",
    "        else:\n",
    "            return False\n",
    "        \n",
    "print(check_there(listy, 'sheesh')) # WHY IS 'sheesh' returning true even if it isn't part of listy?"
   ]
  }
 ],
 "metadata": {
  "kernelspec": {
   "display_name": "Python 3 (ipykernel)",
   "language": "python",
   "name": "python3"
  },
  "language_info": {
   "codemirror_mode": {
    "name": "ipython",
    "version": 3
   },
   "file_extension": ".py",
   "mimetype": "text/x-python",
   "name": "python",
   "nbconvert_exporter": "python",
   "pygments_lexer": "ipython3",
   "version": "3.12.1"
  }
 },
 "nbformat": 4,
 "nbformat_minor": 2
}
